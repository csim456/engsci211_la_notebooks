{
 "cells": [
  {
   "cell_type": "markdown",
   "metadata": {},
   "source": [
    "# Fourier Series - All Visualisations\n",
    "\n",
    "*ENGSCI 211 Mathematical Modelling 2 - Semester One 2019*\n",
    "\n",
    "**Note:** This set of visualisations is presented as is with no explanation. There has been insufficient time this semester to add detailed explanations of each visualisation. Feel free to play around with them if you're interested."
   ]
  },
  {
   "cell_type": "code",
   "execution_count": null,
   "metadata": {
    "scrolled": false
   },
   "outputs": [],
   "source": [
    "from sourcecode_fs import FourierSeries\n",
    "#RandomWave, FourierAnalysis, MusicNote, FilterFreqs, EvenOdd\n",
    "\n",
    "FourierSeries()"
   ]
  },
  {
   "cell_type": "code",
   "execution_count": null,
   "metadata": {},
   "outputs": [],
   "source": []
  },
  {
   "cell_type": "code",
   "execution_count": null,
   "metadata": {},
   "outputs": [],
   "source": [
    "EvenOdd()"
   ]
  },
  {
   "cell_type": "code",
   "execution_count": null,
   "metadata": {},
   "outputs": [],
   "source": [
    "RandomWave()"
   ]
  },
  {
   "cell_type": "code",
   "execution_count": null,
   "metadata": {},
   "outputs": [],
   "source": [
    "# note: this will create a filtered sound file in your local directory + sound\n",
    "\n",
    "guitar, bell, synth = FourierAnalysis()\n",
    "\n",
    "MusicNote(*guitar)\n",
    "# MusicNote(*bell)\n",
    "# MusicNote(*synth)\n",
    "\n",
    "FilterFreqs(*guitar)\n",
    "# FilterFreqs(*bell)\n",
    "# FilterFreqs(*synth)"
   ]
  }
 ],
 "metadata": {
  "kernelspec": {
   "display_name": "Python 3",
   "language": "python",
   "name": "python3"
  },
  "language_info": {
   "codemirror_mode": {
    "name": "ipython",
    "version": 3
   },
   "file_extension": ".py",
   "mimetype": "text/x-python",
   "name": "python",
   "nbconvert_exporter": "python",
   "pygments_lexer": "ipython3",
   "version": "3.6.5"
  }
 },
 "nbformat": 4,
 "nbformat_minor": 2
}
