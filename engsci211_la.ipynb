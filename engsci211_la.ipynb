{
 "cells": [
  {
   "cell_type": "markdown",
   "metadata": {},
   "source": [
    "# Linear Algebra - All Visualisations\n",
    "\n",
    "*ENGSCI 211 Mathematical Modelling 2 - Semester One 2019*\n",
    "\n",
    "**Note:** This set of visualisations is presented as is with no explanation. There has been insufficient time this semester to add detailed explanations of each visualisation. Feel free to play around with them if you're interested."
   ]
  },
  {
   "cell_type": "markdown",
   "metadata": {},
   "source": [
    "### Iterative Methods\n",
    "\n",
    "**System 1:**\n",
    "$$x = \\frac{y}{2} + \\frac{1}{2}$$\n",
    "\n",
    "$$y = -\\frac{x}{2} + \\frac{3}{2}$$\n",
    "\n",
    "**System 2:**\n",
    "$$x = y + 3$$\n",
    "\n",
    "$$y = -3\\,x + 2$$"
   ]
  },
  {
   "cell_type": "code",
   "execution_count": null,
   "metadata": {},
   "outputs": [],
   "source": [
    "from sourcecode_la import IterativeMethods3D, IterativeMethods2D\n",
    "\n",
    "if False:\n",
    "    startingPoint = [0,0,0]\n",
    "    IterativeMethods3D(startingPoint)\n",
    "\n",
    "if True:\n",
    "    startingPoint = [0,0]\n",
    "    IterativeMethods2D(startingPoint)"
   ]
  },
  {
   "cell_type": "markdown",
   "metadata": {},
   "source": [
    "## Additional Visualisations\n",
    "\n",
    "Presented as is with no explanation"
   ]
  },
  {
   "cell_type": "code",
   "execution_count": null,
   "metadata": {},
   "outputs": [],
   "source": [
    "from sourcecode_la import CoordinateTransform, EllipseTransform, EigenTransform"
   ]
  },
  {
   "cell_type": "code",
   "execution_count": null,
   "metadata": {},
   "outputs": [],
   "source": [
    "CoordinateTransform()"
   ]
  },
  {
   "cell_type": "code",
   "execution_count": null,
   "metadata": {},
   "outputs": [],
   "source": [
    "EllipseTransform()"
   ]
  },
  {
   "cell_type": "code",
   "execution_count": null,
   "metadata": {},
   "outputs": [],
   "source": [
    "EigenTransform()"
   ]
  }
 ],
 "metadata": {
  "kernelspec": {
   "display_name": "Python 3",
   "language": "python",
   "name": "python3"
  },
  "language_info": {
   "codemirror_mode": {
    "name": "ipython",
    "version": 3
   },
   "file_extension": ".py",
   "mimetype": "text/x-python",
   "name": "python",
   "nbconvert_exporter": "python",
   "pygments_lexer": "ipython3",
   "version": "3.6.5"
  }
 },
 "nbformat": 4,
 "nbformat_minor": 2
}
