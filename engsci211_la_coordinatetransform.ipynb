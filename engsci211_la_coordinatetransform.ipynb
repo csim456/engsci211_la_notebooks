{
 "cells": [
  {
   "cell_type": "markdown",
   "metadata": {},
   "source": [
    "# Linear Algebra - Coordinate Transformation and Eigenvectors\n",
    "\n",
    "*ENGSCI 211 Mathematical Modelling 2 - Semester One 2019*"
   ]
  },
  {
   "cell_type": "markdown",
   "metadata": {},
   "source": [
    "## Background to Notebook\n",
    "\n",
    "This notebook contains one interactive visualisation (see below for details) on the topic of coordinate transformation and eigenvectors.\n",
    "\n",
    "**Note**: this visualisation contains a few bugs and other issues. In particular, the *custom* option is known not to work.\n",
    "\n",
    "\n",
    "### CoordinateTransform()\n",
    "This demo contains one plot, showing a shape represented as a set of $xy$ coordinates, stored in a two-row matrix $P_{xy}$. This shape can be transformed by a linear transformation matrix of order $2 \\times 2$, such that $P_{uv} = T\\,P_{xy}$. Different transform\n",
    "\n",
    "**Shape**: there are three possible shapes to choose from: square (default), triangle or arrow. Each shape can be represented by a set of $xy$ coordinates, stored in a two-row matrix $P_{xy}$.\n",
    "\n",
    "**Transformation**: the type of shape transformation can be selected from the second drop-down menu. The default is *scale*, which represents a linear scaling of the shape in both $x$ and $y$ directions. Many other options are included. Please note that the *custom* option currently doesn't work.\n",
    "\n",
    "**Show Mat**: you can choose to show the transformation matrix, $T$, which will appear above the plot.\n",
    "\n",
    "**Show Eigs**: you can choose to show the eigenvalues and eigenvectors of the transformation matrix, which satisfy: $T\\,\\vec{s}_i = \\lambda_i \\, \\vec{s}_i$. Note: this works best with the *all* option for the transformation matrix. The lines being shown are $\\lambda_i \\, \\vec{s}_i$.\n",
    "\n",
    "**Normalise Eigs**: you can choose to normalise the eigenvectors being shown i.e. $\\hat{s}_i$."
   ]
  },
  {
   "cell_type": "code",
   "execution_count": null,
   "metadata": {},
   "outputs": [],
   "source": [
    "from sourcecode_la import CoordinateTransform\n",
    "\n",
    "CoordinateTransform()"
   ]
  }
 ],
 "metadata": {
  "kernelspec": {
   "display_name": "Python 3",
   "language": "python",
   "name": "python3"
  },
  "language_info": {
   "codemirror_mode": {
    "name": "ipython",
    "version": 3
   },
   "file_extension": ".py",
   "mimetype": "text/x-python",
   "name": "python",
   "nbconvert_exporter": "python",
   "pygments_lexer": "ipython3",
   "version": "3.6.5"
  }
 },
 "nbformat": 4,
 "nbformat_minor": 2
}
