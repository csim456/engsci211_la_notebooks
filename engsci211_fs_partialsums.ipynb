{
 "cells": [
  {
   "cell_type": "markdown",
   "metadata": {},
   "source": [
    "# Fourier Series - Partial Sums\n",
    "\n",
    "*ENGSCI 211 Mathematical Modelling 2 - Semester One 2019*"
   ]
  },
  {
   "cell_type": "markdown",
   "metadata": {},
   "source": [
    "## Background to Notebook\n",
    "\n",
    "This notebook contains one interactive visualisation (see below for details) on the topic of partial sums and Fourier series.\n",
    "\n",
    "\n",
    "### FourierSeries()\n",
    "This demo contains one plot, showing the basic shape of a periodic function **or** a periodic extension of a non-periodic function. Overlayed onto the plot of the function is the Fourier series for that function up to a specific and finite number of terms, known as the *partial sums*.\n",
    "\n",
    "Below are details on each configurable option:\n",
    "\n",
    "**Terms**: the value of $N$ in the partial sums. If set to zero, the series will show only the $a_0$ coefficient. If set to one, then the first set of sine and/or cosine terms from the series are added to the series, and so on.\n",
    "\n",
    "**Function**: the function for which the Fourier series is being calculated. There are three idealised examples, showing a linear, square wave, and cubic function. Additional options correspond to the coursebook examples found in Volume 2.\n",
    "\n",
    "**Show most recent term**: the most recent term to be added to the series, shown in green. Note: this can be difficult to see depending on the values of $a_n$ and $b_n$ for that term."
   ]
  },
  {
   "cell_type": "code",
   "execution_count": 1,
   "metadata": {
    "scrolled": false
   },
   "outputs": [
    {
     "data": {
      "application/vnd.jupyter.widget-view+json": {
       "model_id": "3cc398fd3216476b8d73fca203618f02",
       "version_major": 2,
       "version_minor": 0
      },
      "text/plain": [
       "VBox(children=(HBox(children=(IntSlider(value=0, continuous_update=False, description='Terms'), Dropdown(descr…"
      ]
     },
     "metadata": {},
     "output_type": "display_data"
    }
   ],
   "source": [
    "from sourcecode_fs import FourierSeries\n",
    "\n",
    "FourierSeries()"
   ]
  }
 ],
 "metadata": {
  "kernelspec": {
   "display_name": "Python 3",
   "language": "python",
   "name": "python3"
  },
  "language_info": {
   "codemirror_mode": {
    "name": "ipython",
    "version": 3
   },
   "file_extension": ".py",
   "mimetype": "text/x-python",
   "name": "python",
   "nbconvert_exporter": "python",
   "pygments_lexer": "ipython3",
   "version": "3.6.5"
  }
 },
 "nbformat": 4,
 "nbformat_minor": 2
}
